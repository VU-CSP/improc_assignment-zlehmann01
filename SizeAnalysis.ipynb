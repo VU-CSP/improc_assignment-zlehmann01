{
 "cells": [
  {
   "cell_type": "markdown",
   "metadata": {
    "id": "uM3giKLgbwgF"
   },
   "source": [
    "# Analysis of the particle sizes from segmentation output\n",
    "You should have an output file named `Results.csv` from FIJI/ImageJ segmentation. If you are using Google Colab to run this code, you will need to upload the file manually to Google using the `File` menu to the left.  "
   ]
  },
  {
   "cell_type": "code",
   "execution_count": null,
   "metadata": {
    "id": "GTIhuJXYbva8"
   },
   "outputs": [],
   "source": [
    "import pandas as pd\n",
    "import numpy as np\n",
    "import seaborn as sns"
   ]
  },
  {
   "cell_type": "markdown",
   "metadata": {
    "id": "mBObqOWmh2Zf"
   },
   "source": [
    "Write code below to read the `Results.csv` file as a pandas DataFrame and store it in the object named `measurements`. Show the head of the DataFrame."
   ]
  },
  {
   "cell_type": "code",
   "execution_count": null,
   "metadata": {
    "id": "DaYDPgcogyxz"
   },
   "outputs": [],
   "source": [
    "# Code to read Results and show head\n",
    "measurements = []"
   ]
  },
  {
   "cell_type": "code",
   "execution_count": null,
   "metadata": {
    "id": "Mz-INH79g5Ks"
   },
   "outputs": [],
   "source": [
    "# Code to plot a histogram of the Area\n",
    "sns.plothist()"
   ]
  },
  {
   "cell_type": "markdown",
   "metadata": {
    "id": "ZtcMHckuiydC"
   },
   "source": [
    "Calculate the mean and the standard deviation of the distribution and show them below. (HINT: pandas can do this easily)"
   ]
  },
  {
   "cell_type": "code",
   "execution_count": null,
   "metadata": {
    "id": "T9lYcgiBhxUE"
   },
   "outputs": [],
   "source": [
    "# Calculate mean\n"
   ]
  },
  {
   "cell_type": "code",
   "execution_count": null,
   "metadata": {
    "id": "UEgg0XZdi_76"
   },
   "outputs": [],
   "source": [
    "# Calculate standard deviation\n"
   ]
  },
  {
   "cell_type": "markdown",
   "metadata": {
    "id": "pE62XfF4kgwJ"
   },
   "source": [
    "#### Describe your interpretation of the distribution of the measurements of nuclear area below. \n",
    "Based on what you see, would you choose different value ranges of particle sizes for counting? Explain why.\n"
   ]
  },
  {
   "cell_type": "markdown",
   "metadata": {},
   "source": []
  }
 ],
 "metadata": {
  "colab": {
   "authorship_tag": "ABX9TyObmlPj4IhDlnaGbqdKLDog",
   "include_colab_link": true,
   "private_outputs": true,
   "provenance": []
  },
  "kernelspec": {
   "display_name": "Python 3",
   "language": "python",
   "name": "python3"
  },
  "language_info": {
   "codemirror_mode": {
    "name": "ipython",
    "version": 3
   },
   "file_extension": ".py",
   "mimetype": "text/x-python",
   "name": "python",
   "nbconvert_exporter": "python",
   "pygments_lexer": "ipython3",
   "version": "3.8.5"
  }
 },
 "nbformat": 4,
 "nbformat_minor": 1
}
